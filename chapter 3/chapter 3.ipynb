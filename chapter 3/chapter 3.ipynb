{
 "cells": [
  {
   "cell_type": "markdown",
   "id": "4a8c7f20",
   "metadata": {},
   "source": [
    "# chapter 3\n",
    "# conditional execution\n"
   ]
  },
  {
   "cell_type": "code",
   "execution_count": 4,
   "id": "cd8d7c8e",
   "metadata": {},
   "outputs": [
    {
     "name": "stdout",
     "output_type": "stream",
     "text": [
      "smaller\n"
     ]
    }
   ],
   "source": [
    "x=5\n",
    "if x<10:print('smaller')\n",
    "if x>20:print('bigger')\n",
    "    "
   ]
  },
  {
   "cell_type": "code",
   "execution_count": 8,
   "id": "ddaf911e",
   "metadata": {},
   "outputs": [
    {
     "name": "stdout",
     "output_type": "stream",
     "text": [
      "equals\n",
      "greater than 4\n",
      "greater or equal than 5\n",
      "less than or equals\n",
      "not equal\n"
     ]
    }
   ],
   "source": [
    "x=5\n",
    "if x==5:print('equals')\n",
    "if x>4:print('greater than 4')\n",
    "if x>=5:print('greater or equal than 5')\n",
    "if x<6:('less than 6')\n",
    "if x<=5:print('less than or equals')\n",
    "if x!=6:print ('not equal')\n",
    "                        \n",
    "                "
   ]
  },
  {
   "cell_type": "code",
   "execution_count": 10,
   "id": "4ad50d38",
   "metadata": {},
   "outputs": [
    {
     "name": "stdout",
     "output_type": "stream",
     "text": [
      "before 5\n",
      "is 5\n",
      "is still 5\n",
      "third 5\n",
      "afterwards 5\n",
      "before 6\n",
      "is still 6\n",
      "third 6\n",
      "afterwards 6\n"
     ]
    }
   ],
   "source": [
    "x=5\n",
    "print('before 5')\n",
    "if x==5:print('is 5')\n",
    "print('is still 5')\n",
    "print ('third 5')\n",
    "print('afterwards 5')\n",
    "print('before 6')\n",
    "if x==6:print('is 6')\n",
    "print('is still 6')\n",
    "print('third 6')\n",
    "print('afterwards 6')"
   ]
  },
  {
   "cell_type": "code",
   "execution_count": 11,
   "id": "33e25a2a",
   "metadata": {},
   "outputs": [
    {
     "name": "stdout",
     "output_type": "stream",
     "text": [
      "more than one\n",
      "less than 100\n",
      "All done\n"
     ]
    }
   ],
   "source": [
    "x=42\n",
    "if x>1:print('more than one')\n",
    "if x<100:print('less than 100')\n",
    "print('All done')\n"
   ]
  },
  {
   "cell_type": "code",
   "execution_count": 13,
   "id": "253c5af3",
   "metadata": {},
   "outputs": [
    {
     "name": "stdout",
     "output_type": "stream",
     "text": [
      "bigger\n",
      "all done\n"
     ]
    }
   ],
   "source": [
    "x=4\n",
    "if x>2:print('bigger')\n",
    "else:print('smaller')\n",
    "print('all done')"
   ]
  },
  {
   "cell_type": "code",
   "execution_count": 14,
   "id": "44eba5b5",
   "metadata": {},
   "outputs": [
    {
     "name": "stdout",
     "output_type": "stream",
     "text": [
      "medium\n",
      "All done\n"
     ]
    }
   ],
   "source": [
    "if x<2:print('small')\n",
    "elif x<10:print('medium')\n",
    "else:print('large')\n",
    "print(\"All done\")    \n",
    "    "
   ]
  },
  {
   "cell_type": "code",
   "execution_count": 16,
   "id": "2acb9a68",
   "metadata": {},
   "outputs": [
    {
     "name": "stdout",
     "output_type": "stream",
     "text": [
      "large\n",
      "All done\n"
     ]
    }
   ],
   "source": [
    "x=20\n",
    "if x<2:print('small')\n",
    "elif x<10:print('medium')\n",
    "else:print('large')\n",
    "print(\"All done\") "
   ]
  },
  {
   "cell_type": "code",
   "execution_count": 17,
   "id": "846ca435",
   "metadata": {},
   "outputs": [
    {
     "name": "stdout",
     "output_type": "stream",
     "text": [
      "medium\n",
      "All done\n"
     ]
    }
   ],
   "source": [
    "x=5\n",
    "if x<2:print('small')\n",
    "elif x<10:print('medium')\n",
    "print(\"All done\") "
   ]
  },
  {
   "cell_type": "code",
   "execution_count": 19,
   "id": "650aa806",
   "metadata": {},
   "outputs": [
    {
     "name": "stdout",
     "output_type": "stream",
     "text": [
      "large\n",
      "All done\n"
     ]
    }
   ],
   "source": [
    "x=20\n",
    "if x<2:print('small')\n",
    "elif x<10:print('medium')\n",
    "elif x<20:print('big')\n",
    "elif x<40:print('large')  \n",
    "elif x<100:print('huge') \n",
    "else:print('ginormus')\n",
    "print(\"All done\") "
   ]
  },
  {
   "cell_type": "code",
   "execution_count": 20,
   "id": "629df77d",
   "metadata": {},
   "outputs": [
    {
     "name": "stdout",
     "output_type": "stream",
     "text": [
      "two or more\n"
     ]
    }
   ],
   "source": [
    "if x<2:print('below 2')\n",
    "elif x>=10:print('two or more')\n",
    "else:print('something else')"
   ]
  },
  {
   "cell_type": "code",
   "execution_count": 21,
   "id": "48e4b012",
   "metadata": {},
   "outputs": [
    {
     "name": "stdout",
     "output_type": "stream",
     "text": [
      "something else\n"
     ]
    }
   ],
   "source": [
    "if x<2:print('below 2')\n",
    "elif x<20:print('below 20')\n",
    "elif x<10:print('below 10')   \n",
    "else:print('something else')"
   ]
  },
  {
   "cell_type": "code",
   "execution_count": 25,
   "id": "d6f6a4da",
   "metadata": {},
   "outputs": [
    {
     "name": "stdout",
     "output_type": "stream",
     "text": [
      "hello\n",
      "done,istr\n"
     ]
    }
   ],
   "source": [
    "astr = 'bob'\n",
    "try:\n",
    "    print('hello')\n",
    "    istr=int(astr)\n",
    "    print('there')\n",
    "except:\n",
    "    istr= -1\n",
    "print('done,istr')"
   ]
  },
  {
   "cell_type": "code",
   "execution_count": 28,
   "id": "d4bc7ca8",
   "metadata": {},
   "outputs": [
    {
     "name": "stdout",
     "output_type": "stream",
     "text": [
      "enter a number2\n",
      "nice work\n"
     ]
    }
   ],
   "source": [
    "rawstr= input('enter a number')\n",
    "try:\n",
    "    ival=int(rawstr)\n",
    "except:\n",
    "    ival= -1\n",
    "if ival>0:print('nice work')\n",
    "else:print('not a number')"
   ]
  },
  {
   "cell_type": "code",
   "execution_count": 29,
   "id": "53791ac0",
   "metadata": {},
   "outputs": [
    {
     "name": "stdout",
     "output_type": "stream",
     "text": [
      "enter hours:45\n",
      "enter hourly rate:10\n",
      "450.0\n"
     ]
    }
   ],
   "source": [
    "hours=input(\"enter hours:\")\n",
    "rate=input(\"enter hourly rate:\")\n",
    "h=float(hours)\n",
    "r=float(rate)\n",
    "if h<=45:print(h*r)\n",
    "else:\n",
    "    print((h-45)*(10*r)+(45*r));"
   ]
  }
 ],
 "metadata": {
  "kernelspec": {
   "display_name": "Python 3 (ipykernel)",
   "language": "python",
   "name": "python3"
  },
  "language_info": {
   "codemirror_mode": {
    "name": "ipython",
    "version": 3
   },
   "file_extension": ".py",
   "mimetype": "text/x-python",
   "name": "python",
   "nbconvert_exporter": "python",
   "pygments_lexer": "ipython3",
   "version": "3.11.4"
  }
 },
 "nbformat": 4,
 "nbformat_minor": 5
}
